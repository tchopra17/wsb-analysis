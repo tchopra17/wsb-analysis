{
 "cells": [
  {
   "cell_type": "code",
   "execution_count": 100,
   "id": "ignored-endorsement",
   "metadata": {},
   "outputs": [],
   "source": [
    "import pandas as pd\n",
    "import numpy as np\n",
    "import praw\n",
    "from datetime import datetime\n",
    "import re\n",
    "from psaw import PushshiftAPI"
   ]
  },
  {
   "cell_type": "code",
   "execution_count": 4,
   "id": "authentic-richardson",
   "metadata": {},
   "outputs": [],
   "source": [
    "reddit = praw.Reddit(client_id='99VP5wAYO4IWtA', client_secret='IFJ2dvaOMcFR6RILmHuk0HYgieLyqg', user_agent='wsb')\n",
    "api = PushshiftAPI(reddit)"
   ]
  },
  {
   "cell_type": "code",
   "execution_count": 213,
   "id": "considered-manufacturer",
   "metadata": {},
   "outputs": [],
   "source": [
    "def get_new_posts():\n",
    "    start_epoch=int(datetime(2021, 1, 20).timestamp())\n",
    "    new_posts = list(api.search_submissions(subreddit='wallstreetbets',\n",
    "                            after=start_epoch,\n",
    "                            sort='desc',))\n",
    "    posts = pd.DataFrame(columns=['id', 'date', 'author', 'title', 'comments', 'num_comments', 'score', 'ratio', 'url'])\n",
    "    x = 0\n",
    "    for post in new_posts:\n",
    "        post.comments.replace_more(limit=0)\n",
    "        posts.loc[x] = [post.id, \n",
    "                        datetime.utcfromtimestamp(post.created_utc).strftime('%Y-%m-%d %H:%M:%S'), \n",
    "                        post.author, \n",
    "                        post.title, \n",
    "                        [\n",
    "                            {'body': j.body, 'author': j.author, 'score': j.score, 'date': datetime.utcfromtimestamp(j.created_utc).strftime('%Y-%m-%d %H:%M:%S'), 'link': j.permalink}\n",
    "                            for j in post.comments.list()\n",
    "                        ],\n",
    "                        post.num_comments,\n",
    "                        post.score,\n",
    "                        post.upvote_ratio,\n",
    "                        post.permalink\n",
    "                       ]\n",
    "        x += 1\n",
    "    return posts"
   ]
  },
  {
   "cell_type": "code",
   "execution_count": null,
   "id": "chief-wallace",
   "metadata": {},
   "outputs": [],
   "source": [
    "posts = get_new_posts()"
   ]
  },
  {
   "cell_type": "code",
   "execution_count": null,
   "id": "finnish-dominant",
   "metadata": {},
   "outputs": [],
   "source": [
    "posts"
   ]
  },
  {
   "cell_type": "code",
   "execution_count": 92,
   "id": "august-philadelphia",
   "metadata": {},
   "outputs": [],
   "source": [
    "def get_stocks():\n",
    "    file = open(\"nasdaqtraded.txt\", \"r\")\n",
    "    columns = file.readline()[:-2].split('|')\n",
    "    current_stocks = pd.DataFrame(columns=columns)\n",
    "    x = 0\n",
    "    for line in file:\n",
    "        try:\n",
    "            row = line[:-2].split('|')\n",
    "            current_stocks.loc[x] = row\n",
    "            x += 1\n",
    "        except:\n",
    "            print(row)\n",
    "    return current_stocks"
   ]
  },
  {
   "cell_type": "code",
   "execution_count": 86,
   "id": "fabulous-nation",
   "metadata": {},
   "outputs": [],
   "source": [
    "current_stocks.to_csv('current_stocks.csv')"
   ]
  },
  {
   "cell_type": "code",
   "execution_count": 89,
   "id": "international-thanksgiving",
   "metadata": {},
   "outputs": [],
   "source": [
    "tickers = current_stocks['Symbol']"
   ]
  },
  {
   "cell_type": "code",
   "execution_count": 144,
   "id": "historic-posting",
   "metadata": {},
   "outputs": [],
   "source": [
    "gme = pd.DataFrame(columns=['date'])\n",
    "x = 0\n",
    "y = 0\n",
    "for row in posts['title']:\n",
    "    row = re.sub(r'[^A-Za-z0-9 ]+', ' ', row)\n",
    "    for word in (row.split(' ')):\n",
    "        if word.upper() in ['GME']:\n",
    "            gme.loc[y] = posts['date'][x]\n",
    "            y += 1\n",
    "    x += 1\n",
    "    \n"
   ]
  },
  {
   "cell_type": "code",
   "execution_count": 147,
   "id": "billion-creek",
   "metadata": {},
   "outputs": [
    {
     "data": {
      "text/plain": [
       "{'body': 'Sell limit 1000',\n",
       " 'author': Redditor(name='high_class_autist'),\n",
       " 'score': 3,\n",
       " 'date': '2021-01-24 03:41:27',\n",
       " 'link': '/r/wallstreetbets/comments/l3rodx/gme_exit_strategies/gkhnq7o/'}"
      ]
     },
     "execution_count": 147,
     "metadata": {},
     "output_type": "execute_result"
    }
   ],
   "source": [
    "posts['comments'][1][0]"
   ]
  },
  {
   "cell_type": "code",
   "execution_count": 148,
   "id": "searching-studio",
   "metadata": {},
   "outputs": [],
   "source": [
    "for comments in posts['comments']:\n",
    "    for comment in comments:\n",
    "        c = re.sub(r'[^A-Za-z0-9 ]+', ' ', (comment['body']))\n",
    "        for word in (c.split(' ')):\n",
    "            if word.upper() in ['GME']:\n",
    "                gme.loc[y] = comment['date']\n",
    "                y += 1"
   ]
  },
  {
   "cell_type": "code",
   "execution_count": 154,
   "id": "honest-measure",
   "metadata": {},
   "outputs": [],
   "source": [
    "gme['date'] = gme['date'].astype('datetime64[ns, US/Pacific]')"
   ]
  },
  {
   "cell_type": "code",
   "execution_count": 158,
   "id": "british-digit",
   "metadata": {},
   "outputs": [
    {
     "data": {
      "text/html": [
       "<div>\n",
       "<style scoped>\n",
       "    .dataframe tbody tr th:only-of-type {\n",
       "        vertical-align: middle;\n",
       "    }\n",
       "\n",
       "    .dataframe tbody tr th {\n",
       "        vertical-align: top;\n",
       "    }\n",
       "\n",
       "    .dataframe thead tr th {\n",
       "        text-align: left;\n",
       "    }\n",
       "\n",
       "    .dataframe thead tr:last-of-type th {\n",
       "        text-align: right;\n",
       "    }\n",
       "</style>\n",
       "<table border=\"1\" class=\"dataframe\">\n",
       "  <thead>\n",
       "    <tr>\n",
       "      <th></th>\n",
       "      <th>date</th>\n",
       "    </tr>\n",
       "    <tr>\n",
       "      <th></th>\n",
       "      <th>count</th>\n",
       "    </tr>\n",
       "    <tr>\n",
       "      <th>date</th>\n",
       "      <th></th>\n",
       "    </tr>\n",
       "  </thead>\n",
       "  <tbody>\n",
       "    <tr>\n",
       "      <th>22</th>\n",
       "      <td>3066</td>\n",
       "    </tr>\n",
       "    <tr>\n",
       "      <th>23</th>\n",
       "      <td>2380</td>\n",
       "    </tr>\n",
       "  </tbody>\n",
       "</table>\n",
       "</div>"
      ],
      "text/plain": [
       "      date\n",
       "     count\n",
       "date      \n",
       "22    3066\n",
       "23    2380"
      ]
     },
     "execution_count": 158,
     "metadata": {},
     "output_type": "execute_result"
    }
   ],
   "source": [
    "gme.groupby(gme['date'].dt.day).agg(['count'])"
   ]
  },
  {
   "cell_type": "code",
   "execution_count": 159,
   "id": "contrary-transsexual",
   "metadata": {},
   "outputs": [],
   "source": []
  },
  {
   "cell_type": "code",
   "execution_count": 161,
   "id": "conscious-applicant",
   "metadata": {},
   "outputs": [],
   "source": []
  },
  {
   "cell_type": "code",
   "execution_count": 189,
   "id": "exterior-timeline",
   "metadata": {},
   "outputs": [],
   "source": []
  },
  {
   "cell_type": "code",
   "execution_count": 195,
   "id": "affected-burns",
   "metadata": {},
   "outputs": [
    {
     "name": "stdout",
     "output_type": "stream",
     "text": [
      "GME Exit Strategies\n"
     ]
    }
   ],
   "source": []
  },
  {
   "cell_type": "code",
   "execution_count": null,
   "id": "conditional-disaster",
   "metadata": {},
   "outputs": [],
   "source": []
  }
 ],
 "metadata": {
  "kernelspec": {
   "display_name": "Python 3",
   "language": "python",
   "name": "python3"
  },
  "language_info": {
   "codemirror_mode": {
    "name": "ipython",
    "version": 3
   },
   "file_extension": ".py",
   "mimetype": "text/x-python",
   "name": "python",
   "nbconvert_exporter": "python",
   "pygments_lexer": "ipython3",
   "version": "3.7.9"
  }
 },
 "nbformat": 4,
 "nbformat_minor": 5
}
